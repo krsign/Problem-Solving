{
 "cells": [
  {
   "cell_type": "markdown",
   "metadata": {},
   "source": [
    "1.\n",
    "\n",
    "Take values of length and breadth of a rectangle from the user and check it is square or not. Return area of a rectangle.\n",
    " \n",
    "Input Format:\n",
    "There will be two lines each will contain a single integer. The first line contains length and the second line contains width. \n",
    " \n",
    "Output Format:\n",
    "There will be two lines the first will contain boolean True or False and the second will contain an integer that would be the area of a rectangle.\n",
    "\n",
    "Sample Input 0:\n",
    "5\n",
    "5\n",
    " \n",
    "Sample Output 0:\n",
    "True\n",
    "25"
   ]
  },
  {
   "cell_type": "code",
   "execution_count": 6,
   "metadata": {},
   "outputs": [],
   "source": [
    "if lenght == breadth:\n",
    "    print(True)\n",
    "    print(length * breadth)\n",
    "else:\n",
    "    print(False)\n",
    "    print(length * breadth)"
   ]
  },
  {
   "cell_type": "code",
   "execution_count": null,
   "metadata": {},
   "outputs": [],
   "source": []
  }
 ],
 "metadata": {
  "kernelspec": {
   "display_name": "Python 3",
   "language": "python",
   "name": "python3"
  },
  "language_info": {
   "codemirror_mode": {
    "name": "ipython",
    "version": 3
   },
   "file_extension": ".py",
   "mimetype": "text/x-python",
   "name": "python",
   "nbconvert_exporter": "python",
   "pygments_lexer": "ipython3",
   "version": "3.7.6"
  }
 },
 "nbformat": 4,
 "nbformat_minor": 4
}

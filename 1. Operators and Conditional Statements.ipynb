{
 "cells": [
  {
   "cell_type": "markdown",
   "metadata": {},
   "source": [
    "    1.\n",
    "\n",
    "    Take values of length and breadth of a rectangle from the user and check it is square or not. Return area of a rectangle.\n",
    "\n",
    "    Input Format:\n",
    "    There will be two lines each will contain a single integer. The first line contains length and the second line contains width. \n",
    "\n",
    "    Output Format:\n",
    "    There will be two lines the first will contain boolean True or False and the second will contain an integer that would be the area of a rectangle.\n",
    "\n",
    "    Sample Input 0:\n",
    "    5\n",
    "    5\n",
    "\n",
    "    Sample Output 0:\n",
    "    True\n",
    "    25"
   ]
  },
  {
   "cell_type": "code",
   "execution_count": 6,
   "metadata": {},
   "outputs": [],
   "source": [
    "if lenght == breadth:\n",
    "    print(True)\n",
    "    print(length * breadth)\n",
    "else:\n",
    "    print(False)\n",
    "    print(length * breadth)"
   ]
  },
  {
   "cell_type": "markdown",
   "metadata": {},
   "source": [
    "    2.\n",
    "\n",
    "    Write a Python program that accepts an integer (n) and computes the value of n+nn+nnn.\n",
    "\n",
    "    For Example: n = 5 Then expression would be 5+55+555 and answer would be 615\n",
    "\n",
    "    Input Format:\n",
    "    There will be one line containing a single integer.\n",
    "\n",
    "    Output Format:\n",
    "    There will be one line containing a integer number.\n",
    "\n",
    "    Sample Input 0:\n",
    "    5\n",
    "\n",
    "    Sample Output 0:\n",
    "    615"
   ]
  },
  {
   "cell_type": "code",
   "execution_count": 24,
   "metadata": {},
   "outputs": [
    {
     "name": "stdout",
     "output_type": "stream",
     "text": [
      "5\n",
      "55\n",
      "555\n",
      "615\n"
     ]
    }
   ],
   "source": [
    "# naive \n",
    "\n",
    "n = 5\n",
    "\n",
    "s1 = str(n)\n",
    "print(s1)\n",
    "\n",
    "s2 = str(n) * 2\n",
    "print(s2)\n",
    "\n",
    "s3 = str(n) * 3\n",
    "print(s3)\n",
    "\n",
    "print(int(s1) + int(s2) + int(s3))"
   ]
  },
  {
   "cell_type": "markdown",
   "metadata": {},
   "source": [
    "    3.\n",
    "\n",
    "    A company decided to deduct pf of 12% of salary if year of service is less than or equal to 5 year and 24% employee if his/her year of service is more than 5 years.\n",
    "    Ask the user for their salary and year of service and print the net in-hand salary after pf deduction.\n",
    "\n",
    "    Input Format:\n",
    "    There will be two lines first line will be containing a single integer(Salary) and second will contain single integer (no of years).\n",
    "\n",
    "    Output Format:\n",
    "    There will be one line containing a integer number(In-hand salary).\n",
    "\n",
    "    Sample Input 0:\n",
    "    10000\n",
    "    2\n",
    "\n",
    "    Sample Output 0:\n",
    "    8800"
   ]
  },
  {
   "cell_type": "code",
   "execution_count": 6,
   "metadata": {},
   "outputs": [
    {
     "name": "stdout",
     "output_type": "stream",
     "text": [
      "8800\n"
     ]
    }
   ],
   "source": [
    "salary = 10000\n",
    "year = 2\n",
    "\n",
    "if year <= 5:\n",
    "    percent = 12/100 * salary\n",
    "    print(salary - int(percent))\n",
    "else:\n",
    "    percent = 24/100 * salary\n",
    "    print(salary - int(percent))"
   ]
  },
  {
   "cell_type": "markdown",
   "metadata": {},
   "source": [
    "    4.\n",
    "    A school has following rules for grading system:\n",
    "\n",
    "    a. Below 40 - F\n",
    "\n",
    "    b. 40 to 50 - C\n",
    "\n",
    "    c. 50 to 60 - C+ \n",
    "\n",
    "    d. 60 to 70 - B \n",
    "\n",
    "    e. 70 to 80 - B+\n",
    "\n",
    "    f. 80 to 90- A\n",
    "\n",
    "    g. Above 90 - A+\n",
    "\n",
    "    Ask the user to enter marks for their 5 main subjects and print the overall grade (Be careful grades will be case sensitive) for an average of their marks.\n",
    "\n",
    "    Input Format:\n",
    "\n",
    "    There will be 5 lines containing single integer each line equivalent to mark for each subject.\n",
    "\n",
    "    Output Format:\n",
    "\n",
    "    There will be two lines first that will contain a string that will be the user's final grade and second that will contain float number (average of user's marks)\n",
    "\n",
    "    Sample Input 0:\n",
    "\n",
    "    75\n",
    "    95\n",
    "    85\n",
    "    90\n",
    "    80\n",
    "    Sample Output :\n",
    "\n",
    "    A\n",
    "    85.0"
   ]
  },
  {
   "cell_type": "code",
   "execution_count": null,
   "metadata": {},
   "outputs": [],
   "source": []
  }
 ],
 "metadata": {
  "kernelspec": {
   "display_name": "Python 3",
   "language": "python",
   "name": "python3"
  },
  "language_info": {
   "codemirror_mode": {
    "name": "ipython",
    "version": 3
   },
   "file_extension": ".py",
   "mimetype": "text/x-python",
   "name": "python",
   "nbconvert_exporter": "python",
   "pygments_lexer": "ipython3",
   "version": "3.7.6"
  }
 },
 "nbformat": 4,
 "nbformat_minor": 4
}

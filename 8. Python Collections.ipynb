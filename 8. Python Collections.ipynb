{
 "cells": [
  {
   "cell_type": "markdown",
   "metadata": {},
   "source": [
    "## Collection Module\n",
    "\n",
    "    - different types of container\n",
    "    - container is an object which store different objects\n",
    "    - provides access to contained objects and iterate over them"
   ]
  },
  {
   "cell_type": "markdown",
   "metadata": {},
   "source": [
    "### counter\n",
    "     - sub class of dictionary.\n",
    "     - used to keep the count of the elements in an iterable in the form of an unordered dict\n",
    "         . where key represents the elements in the iterable and value represents the count of that element in the iterable\n",
    "         "
   ]
  },
  {
   "cell_type": "code",
   "execution_count": 2,
   "metadata": {},
   "outputs": [
    {
     "name": "stdout",
     "output_type": "stream",
     "text": [
      "Counter({'B': 4, 'A': 2})\n",
      "Counter({'B': 5, 'A': 3, 'D': 3})\n"
     ]
    }
   ],
   "source": [
    "from collections import Counter\n",
    "\n",
    "# with sequence\n",
    "print(Counter(['B', 'B', 'A', 'B', 'A', 'B',]))\n",
    "\n",
    "# with dict\n",
    "print(Counter({'A':3, 'B':5, 'D':3}))"
   ]
  },
  {
   "cell_type": "markdown",
   "metadata": {},
   "source": [
    "### orderedDict\n",
    "\n",
    "    - sub class of dictionary but remember the order in which the key were inserted."
   ]
  },
  {
   "cell_type": "code",
   "execution_count": 6,
   "metadata": {},
   "outputs": [
    {
     "name": "stdout",
     "output_type": "stream",
     "text": [
      "This is a Dict/n\n",
      "a 1\n",
      "b 2\n",
      "c 4\n",
      "d 5\n",
      "e 6\n",
      "This is an ordered dict\n",
      "a 1\n",
      "b 2\n",
      "c 3\n",
      "d 4\n"
     ]
    }
   ],
   "source": [
    "from collections import OrderedDict\n",
    "\n",
    "print('This is a Dict' + '/n')\n",
    "\n",
    "d = {}\n",
    "\n",
    "d['a'] = 1\n",
    "d['b'] = 2\n",
    "d['c'] = 4\n",
    "d['d'] = 5\n",
    "d['e'] = 6\n",
    "\n",
    "for key, value in d.items():\n",
    "    print(key, value)\n",
    "    \n",
    "\n",
    "print('This is an ordered dict')\n",
    "\n",
    "od = OrderedDict()\n",
    "\n",
    "od['a'] = 1\n",
    "od['b'] = 2\n",
    "od['c'] = 3\n",
    "od['d'] = 4\n",
    "\n",
    "for k, v in od.items():\n",
    "    print(k, v)"
   ]
  },
  {
   "cell_type": "code",
   "execution_count": 9,
   "metadata": {},
   "outputs": [
    {
     "name": "stdout",
     "output_type": "stream",
     "text": [
      "Before Deleting\n",
      "a 1\n",
      "b 2\n",
      "c 3\n",
      "After Deleting and Inserting\n",
      "b 2\n",
      "c 3\n",
      "a 1\n"
     ]
    }
   ],
   "source": [
    "## deleting and re-inserting using OrderedDict\n",
    "\n",
    "from collections import OrderedDict\n",
    "\n",
    "od = OrderedDict()\n",
    "\n",
    "od['a'] = 1\n",
    "od['b'] = 2\n",
    "od['c'] = 3\n",
    "\n",
    "print('Before Deleting')\n",
    "\n",
    "for key, value in od.items():\n",
    "    print(key, value)\n",
    "    \n",
    "\n",
    "# poping\n",
    "od.pop('a')\n",
    "\n",
    "# inserting\n",
    "od['a'] = 1\n",
    "\n",
    "print('After Deleting and Inserting')\n",
    "for k, v in od.items():\n",
    "    print(k,v)"
   ]
  },
  {
   "cell_type": "markdown",
   "metadata": {},
   "source": [
    "### ChainMap\n",
    "\n",
    "    - encapsulate many dicts into one dict"
   ]
  },
  {
   "cell_type": "code",
   "execution_count": 11,
   "metadata": {},
   "outputs": [
    {
     "name": "stdout",
     "output_type": "stream",
     "text": [
      "ChainMap({'a': 1, 'b': 2, 'c': 3}, {'d': 4, 'e': 5, 'f': 6}, {'g': 7, 'h': 8, 'i': 9})\n"
     ]
    }
   ],
   "source": [
    "from collections import ChainMap\n",
    "\n",
    "d1 = {'a':1, 'b':2, 'c':3}\n",
    "d2 = {'d':4, 'e':5, 'f':6}\n",
    "d3 = {'g': 7, 'h':8, 'i':9}\n",
    "\n",
    "d4 = ChainMap(d1, d2, d3)\n",
    "print(d4)"
   ]
  },
  {
   "cell_type": "markdown",
   "metadata": {},
   "source": [
    "#### accessing keys and values from ChainMap\n",
    "    - can be accessed using key name\n",
    "    - can also be accessed using keys() and values() methods"
   ]
  },
  {
   "cell_type": "code",
   "execution_count": 19,
   "metadata": {},
   "outputs": [
    {
     "name": "stdout",
     "output_type": "stream",
     "text": [
      "8\n",
      "\n",
      "\n",
      "ValuesView(ChainMap({'a': 1, 'b': 2, 'c': 3}, {'d': 4, 'e': 5, 'f': 6}, {'g': 7, 'h': 8, 'i': 9}))\n",
      "\n",
      "\n",
      "KeysView(ChainMap({'a': 1, 'b': 2, 'c': 3}, {'d': 4, 'e': 5, 'f': 6}, {'g': 7, 'h': 8, 'i': 9}))\n"
     ]
    }
   ],
   "source": [
    "from collections import ChainMap\n",
    "\n",
    "d1 = {'a':1, 'b':2, 'c':3}\n",
    "d2 = {'d':4, 'e':5, 'f':6}\n",
    "d3 = {'g': 7, 'h':8, 'i':9}\n",
    "\n",
    "d4 = ChainMap(d1, d2, d3)\n",
    "\n",
    "print(d4['h'])\n",
    "print('\\n')\n",
    "\n",
    "print(d4.values())\n",
    "print('\\n')\n",
    "\n",
    "print(d4.keys())"
   ]
  }
 ],
 "metadata": {
  "kernelspec": {
   "display_name": "Python 3",
   "language": "python",
   "name": "python3"
  },
  "language_info": {
   "codemirror_mode": {
    "name": "ipython",
    "version": 3
   },
   "file_extension": ".py",
   "mimetype": "text/x-python",
   "name": "python",
   "nbconvert_exporter": "python",
   "pygments_lexer": "ipython3",
   "version": "3.7.6"
  }
 },
 "nbformat": 4,
 "nbformat_minor": 4
}

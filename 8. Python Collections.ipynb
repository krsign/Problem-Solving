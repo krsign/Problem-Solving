{
 "cells": [
  {
   "cell_type": "markdown",
   "metadata": {},
   "source": [
    "## Collection Module\n",
    "\n",
    "    - different types of container\n",
    "    - container is an object which store different objects\n",
    "    - provides access to contained objects and iterate over them"
   ]
  },
  {
   "cell_type": "markdown",
   "metadata": {},
   "source": [
    "### counter\n",
    "     - sub class of dictionary.\n",
    "     - used to keep the count of the elements in an iterable in the form of an unordered dict\n",
    "         . where key represents the elements in the iterable and value represents the count of that element in the iterable\n",
    "         "
   ]
  },
  {
   "cell_type": "code",
   "execution_count": 2,
   "metadata": {},
   "outputs": [
    {
     "name": "stdout",
     "output_type": "stream",
     "text": [
      "Counter({'B': 4, 'A': 2})\n",
      "Counter({'B': 5, 'A': 3, 'D': 3})\n"
     ]
    }
   ],
   "source": [
    "from collections import Counter\n",
    "\n",
    "# with sequence\n",
    "print(Counter(['B', 'B', 'A', 'B', 'A', 'B',]))\n",
    "\n",
    "# with dict\n",
    "print(Counter({'A':3, 'B':5, 'D':3}))"
   ]
  },
  {
   "cell_type": "markdown",
   "metadata": {},
   "source": [
    "### orderedDict\n",
    "\n",
    "    - sub class of dictionary but remember the order in which the key were inserted."
   ]
  },
  {
   "cell_type": "code",
   "execution_count": 4,
   "metadata": {},
   "outputs": [
    {
     "name": "stdout",
     "output_type": "stream",
     "text": [
      "This is a Dict/n\n",
      "a 1\n",
      "b 2\n",
      "c 4\n",
      "d 5\n",
      "e 6\n"
     ]
    }
   ],
   "source": [
    "from collections import OrderedDict\n",
    "\n",
    "print('This is a Dict' + '/n')\n",
    "\n",
    "d = {}\n",
    "\n",
    "d['a'] = 1\n",
    "d['b'] = 2\n",
    "d['c'] = 4\n",
    "d['d'] = 5\n",
    "d['e'] = 6\n",
    "\n",
    "for key, value in d.items():\n",
    "    print(key, value)\n",
    "    \n",
    "\n",
    "print('This is an ordered dict')\n",
    "\n",
    "od = OrderedDict()\n",
    "\n",
    "od['a'] = 1\n",
    "od['b'] = 2\n",
    "od['c'] = 3\n",
    "od['d'] = 4\n",
    "\n",
    "for k, v in od.items():\n",
    "    "
   ]
  },
  {
   "cell_type": "code",
   "execution_count": null,
   "metadata": {},
   "outputs": [],
   "source": []
  },
  {
   "cell_type": "code",
   "execution_count": null,
   "metadata": {},
   "outputs": [],
   "source": []
  },
  {
   "cell_type": "code",
   "execution_count": null,
   "metadata": {},
   "outputs": [],
   "source": []
  },
  {
   "cell_type": "code",
   "execution_count": null,
   "metadata": {},
   "outputs": [],
   "source": []
  },
  {
   "cell_type": "code",
   "execution_count": null,
   "metadata": {},
   "outputs": [],
   "source": []
  }
 ],
 "metadata": {
  "kernelspec": {
   "display_name": "Python 3",
   "language": "python",
   "name": "python3"
  },
  "language_info": {
   "codemirror_mode": {
    "name": "ipython",
    "version": 3
   },
   "file_extension": ".py",
   "mimetype": "text/x-python",
   "name": "python",
   "nbconvert_exporter": "python",
   "pygments_lexer": "ipython3",
   "version": "3.7.6"
  }
 },
 "nbformat": 4,
 "nbformat_minor": 4
}

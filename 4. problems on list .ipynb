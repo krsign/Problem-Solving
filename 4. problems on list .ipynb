{
 "cells": [
  {
   "cell_type": "code",
   "execution_count": 2,
   "metadata": {},
   "outputs": [
    {
     "name": "stdout",
     "output_type": "stream",
     "text": [
      "15\n"
     ]
    }
   ],
   "source": [
    "# Write a Python program to sum all the items in a list. \n",
    "\n",
    "# let \n",
    "items = [1, 2, 3, 4, 5]\n",
    "\n",
    "sum = 0\n",
    "\n",
    "for i in items:\n",
    "    sum += i\n",
    "    \n",
    "print(sum)"
   ]
  },
  {
   "cell_type": "code",
   "execution_count": 3,
   "metadata": {},
   "outputs": [
    {
     "name": "stdout",
     "output_type": "stream",
     "text": [
      "120\n"
     ]
    }
   ],
   "source": [
    "# Write a Python program to multiplies all the items in a list.\n",
    "\n",
    "# let \n",
    "items = [1, 2, 3, 4, 5]\n",
    "\n",
    "multiple = 1\n",
    "\n",
    "for i in items:\n",
    "    multiple *= i\n",
    "    \n",
    "print(multiple)"
   ]
  },
  {
   "cell_type": "code",
   "execution_count": 23,
   "metadata": {},
   "outputs": [
    {
     "name": "stdout",
     "output_type": "stream",
     "text": [
      "87\n"
     ]
    }
   ],
   "source": [
    "#  Write a Python program to get the largest number from a list.\n",
    "\n",
    "#let\n",
    "list = [2,48,29,67, 87, 55]\n",
    "\n",
    "max = list[0]\n",
    "\n",
    "for i in list:\n",
    "    if i > max:\n",
    "        max = i\n",
    "\n",
    "print(max)"
   ]
  },
  {
   "cell_type": "code",
   "execution_count": 25,
   "metadata": {},
   "outputs": [
    {
     "name": "stdout",
     "output_type": "stream",
     "text": [
      "2\n"
     ]
    }
   ],
   "source": [
    "# Write a Python program to count the number of strings where the string length is 2 or more \n",
    "# and the first and last character are same from a given list of strings.\n",
    "\n",
    "# Sample List : ['abc', 'xyz', 'aba', '1221']\n",
    "# Expected Result : 2\n",
    "\n",
    "\n",
    "list = ['abc', 'xyz', 'aba', '1221']\n",
    "\n",
    "count = 0\n",
    "\n",
    "for i in list:\n",
    "    if i[0] == i[-1]:\n",
    "        count += 1\n",
    "        \n",
    "print(count)"
   ]
  },
  {
   "cell_type": "code",
   "execution_count": null,
   "metadata": {},
   "outputs": [],
   "source": [
    "# Write a Python program to get a list, sorted in increasing order by \n",
    "# the last element in each tuple from a given list of non-empty tuples. \n",
    "\n",
    "# Sample List : [(2, 5), (1, 2), (4, 4), (2, 3), (2, 1)]\n",
    "# Expected Result : [(2, 1), (1, 2), (2, 3), (4, 4), (2, 5)]\n",
    "\n"
   ]
  }
 ],
 "metadata": {
  "kernelspec": {
   "display_name": "Python 3",
   "language": "python",
   "name": "python3"
  },
  "language_info": {
   "codemirror_mode": {
    "name": "ipython",
    "version": 3
   },
   "file_extension": ".py",
   "mimetype": "text/x-python",
   "name": "python",
   "nbconvert_exporter": "python",
   "pygments_lexer": "ipython3",
   "version": "3.7.6"
  }
 },
 "nbformat": 4,
 "nbformat_minor": 4
}

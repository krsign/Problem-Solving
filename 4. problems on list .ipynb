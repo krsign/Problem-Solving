{
 "cells": [
  {
   "cell_type": "code",
   "execution_count": 2,
   "metadata": {},
   "outputs": [
    {
     "name": "stdout",
     "output_type": "stream",
     "text": [
      "15\n"
     ]
    }
   ],
   "source": [
    "# Write a Python program to sum all the items in a list. \n",
    "\n",
    "# let \n",
    "items = [1, 2, 3, 4, 5]\n",
    "\n",
    "sum = 0\n",
    "\n",
    "for i in items:\n",
    "    sum += i\n",
    "    \n",
    "print(sum)"
   ]
  },
  {
   "cell_type": "code",
   "execution_count": 3,
   "metadata": {},
   "outputs": [
    {
     "name": "stdout",
     "output_type": "stream",
     "text": [
      "120\n"
     ]
    }
   ],
   "source": [
    "# Write a Python program to multiplies all the items in a list.\n",
    "\n",
    "# let \n",
    "items = [1, 2, 3, 4, 5]\n",
    "\n",
    "multiple = 1\n",
    "\n",
    "for i in items:\n",
    "    multiple *= i\n",
    "    \n",
    "print(multiple)"
   ]
  },
  {
   "cell_type": "code",
   "execution_count": 20,
   "metadata": {},
   "outputs": [
    {
     "name": "stdout",
     "output_type": "stream",
     "text": [
      "67\n"
     ]
    }
   ],
   "source": [
    "#  Write a Python program to get the largest number from a list.\n",
    "\n",
    "def max_number_inlist(l):\n",
    "    max = l[0]\n",
    "    for i in l:\n",
    "        if i > max:\n",
    "            max = i\n",
    "    return max\n",
    "\n",
    "print(max_number_inlist([2,48,29,67]))"
   ]
  },
  {
   "cell_type": "code",
   "execution_count": null,
   "metadata": {},
   "outputs": [],
   "source": [
    "l = [2,48,29,67]\n",
    "\n",
    "max = l[0]\n",
    "\n",
    "for i in l:\n",
    "    if i > max:\n",
    "        max = "
   ]
  }
 ],
 "metadata": {
  "kernelspec": {
   "display_name": "Python 3",
   "language": "python",
   "name": "python3"
  },
  "language_info": {
   "codemirror_mode": {
    "name": "ipython",
    "version": 3
   },
   "file_extension": ".py",
   "mimetype": "text/x-python",
   "name": "python",
   "nbconvert_exporter": "python",
   "pygments_lexer": "ipython3",
   "version": "3.7.6"
  }
 },
 "nbformat": 4,
 "nbformat_minor": 4
}

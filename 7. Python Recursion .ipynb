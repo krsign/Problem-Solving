{
 "cells": [
  {
   "cell_type": "markdown",
   "metadata": {},
   "source": [
    "## recursion\n",
    "    - func call itself"
   ]
  },
  {
   "cell_type": "markdown",
   "metadata": {},
   "source": [
    "## example"
   ]
  },
  {
   "cell_type": "code",
   "execution_count": 5,
   "metadata": {},
   "outputs": [
    {
     "name": "stdout",
     "output_type": "stream",
     "text": [
      "24\n"
     ]
    }
   ],
   "source": [
    "# factorial\n",
    "\n",
    "def recursion(n):\n",
    "    \n",
    "    if n == 1:\n",
    "        return 1\n",
    "    else:\n",
    "        return n * recursion(n-1)\n",
    "    \n",
    "n = 4\n",
    "\n",
    "print(recursion(n))"
   ]
  },
  {
   "cell_type": "markdown",
   "metadata": {},
   "source": [
    "# how it's working\n",
    "    \n",
    "    - recursion(4)              - first call\n",
    "    - 4 * recursion(3)          - second call\n",
    "    - 4 * 3 * recursion(2)      - third call\n",
    "    - 4 * 3 * 2 * recursion(1)  - fourth call\n",
    "    - 4 * 3 * 2 * 1             - return fourth call\n",
    "    - 4 * 3 * 2                 - return second call\n",
    "    - 4 * 3                     - return "
   ]
  }
 ],
 "metadata": {
  "kernelspec": {
   "display_name": "Python 3",
   "language": "python",
   "name": "python3"
  },
  "language_info": {
   "codemirror_mode": {
    "name": "ipython",
    "version": 3
   },
   "file_extension": ".py",
   "mimetype": "text/x-python",
   "name": "python",
   "nbconvert_exporter": "python",
   "pygments_lexer": "ipython3",
   "version": "3.7.6"
  }
 },
 "nbformat": 4,
 "nbformat_minor": 4
}

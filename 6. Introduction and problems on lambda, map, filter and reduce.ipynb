{
 "cells": [
  {
   "cell_type": "markdown",
   "metadata": {},
   "source": [
    "## lambda\n",
    "    - function without name or anonymous function\n",
    "    - syntax : lambda arguments : expressions"
   ]
  },
  {
   "cell_type": "code",
   "execution_count": 6,
   "metadata": {},
   "outputs": [
    {
     "name": "stdout",
     "output_type": "stream",
     "text": [
      "12.564\n"
     ]
    }
   ],
   "source": [
    "# area of cicle\n",
    "\n",
    "circle = lambda radius : 3.141 * (radius * radius)\n",
    "\n",
    "print(circle(2))"
   ]
  },
  {
   "cell_type": "code",
   "execution_count": 8,
   "metadata": {},
   "outputs": [
    {
     "name": "stdout",
     "output_type": "stream",
     "text": [
      "8\n"
     ]
    }
   ],
   "source": [
    "# area of rectangle\n",
    "\n",
    "area = lambda length, breadth : length * breadth\n",
    "\n",
    "print(area(2,4))"
   ]
  },
  {
   "cell_type": "code",
   "execution_count": 10,
   "metadata": {},
   "outputs": [
    {
     "name": "stdout",
     "output_type": "stream",
     "text": [
      "16\n"
     ]
    }
   ],
   "source": [
    "# (a + b)^2 = a^2 + b^2 + 2 * (a*b)\n",
    "\n",
    "aplusb_square = lambda a, b : a**2 + b**2 + 2*(a*b)\n",
    "\n",
    "print(aplusb_square(2,2))"
   ]
  },
  {
   "cell_type": "markdown",
   "metadata": {},
   "source": [
    "## map\n",
    "    - map function - apply on each item of iterables(list, tuple etc)\n",
    "    - syntax : map(function, iterables)\n",
    "    - return as list of the result"
   ]
  },
  {
   "cell_type": "code",
   "execution_count": 26,
   "metadata": {},
   "outputs": [
    {
     "name": "stdout",
     "output_type": "stream",
     "text": [
      "<map object at 0x7f9bdc980590>\n",
      "(4, 9, 16, 25)\n"
     ]
    }
   ],
   "source": [
    "# square:\n",
    "\n",
    "def square(n):\n",
    "    sq = n ** 2\n",
    "    return sq\n",
    "\n",
    "x = map(square, [2, 3, 4, 5])\n",
    "print(x)\n",
    "\n",
    "# convert map object to tuple\n",
    "\n",
    "result = tuple(x)\n",
    "print(result)"
   ]
  },
  {
   "cell_type": "code",
   "execution_count": 1,
   "metadata": {},
   "outputs": [
    {
     "name": "stdout",
     "output_type": "stream",
     "text": [
      "[254.421, 1017.684, 2289.789, 4070.736]\n"
     ]
    }
   ],
   "source": [
    "# area of circle\n",
    "\n",
    "def circle(r):\n",
    "    return 3.141 * (r ** 2)\n",
    "\n",
    "result = map(circle, [9,18, 27, 36])\n",
    "\n",
    "print(list(result))"
   ]
  },
  {
   "cell_type": "code",
   "execution_count": 2,
   "metadata": {},
   "outputs": [
    {
     "name": "stdout",
     "output_type": "stream",
     "text": [
      "[4, 9, 16, 25, 36]\n"
     ]
    }
   ],
   "source": [
    "# lambda and map \n",
    "\n",
    "result = map(lambda x : x ** 2, [2, 3, 4, 5, 6])\n",
    "print(list(result))"
   ]
  },
  {
   "cell_type": "code",
   "execution_count": 3,
   "metadata": {},
   "outputs": [
    {
     "name": "stdout",
     "output_type": "stream",
     "text": [
      "[7, 9, 11, 13, 15]\n"
     ]
    }
   ],
   "source": [
    "# passing multiple iterators to lambda\n",
    "\n",
    "num1 = [1, 2, 3, 4, 5]\n",
    "num2 = [6, 7, 8, 9, 10]\n",
    "\n",
    "addition = map(lambda n1, n2 : n1 + n2, num1, num2)\n",
    "print(list(addition))"
   ]
  },
  {
   "cell_type": "markdown",
   "metadata": {},
   "source": [
    "## filter\n",
    "\n",
    "    - filter : it filter particular element on iterable for given function\n",
    "    - syntax : filter(function, iterable)\n",
    "    "
   ]
  },
  {
   "cell_type": "code",
   "execution_count": 4,
   "metadata": {},
   "outputs": [
    {
     "name": "stdout",
     "output_type": "stream",
     "text": [
      "['a', 'e', 'i', 'o', 'u']\n"
     ]
    }
   ],
   "source": [
    "letter = ['a', 'b', 'c', 'd', 'e', 'f', 'g', 'h', 'i', 'j', 'k', 'l', 'm', 'n', 'o', 'p', 'q', 'r', 's', 't', 'u', 'v', 'w', 'x', 'y', 'z']\n",
    "\n",
    "def find_vowel(letter):\n",
    "    vowel = ['a', 'e', 'i', 'o', 'u']\n",
    "    if letter in vowel:\n",
    "        return True\n",
    "    else:\n",
    "        return False\n",
    "    \n",
    "result = filter(find_vowel, letter)\n",
    "\n",
    "print(list(result))"
   ]
  }
 ],
 "metadata": {
  "kernelspec": {
   "display_name": "Python 3",
   "language": "python",
   "name": "python3"
  },
  "language_info": {
   "codemirror_mode": {
    "name": "ipython",
    "version": 3
   },
   "file_extension": ".py",
   "mimetype": "text/x-python",
   "name": "python",
   "nbconvert_exporter": "python",
   "pygments_lexer": "ipython3",
   "version": "3.7.6"
  }
 },
 "nbformat": 4,
 "nbformat_minor": 4
}

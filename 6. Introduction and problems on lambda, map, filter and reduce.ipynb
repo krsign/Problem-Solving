{
 "cells": [
  {
   "cell_type": "markdown",
   "metadata": {},
   "source": [
    "## lambda\n",
    "    - function without name or anonymous function\n",
    "    - syntax : lambda arguments : expressions"
   ]
  },
  {
   "cell_type": "code",
   "execution_count": 6,
   "metadata": {},
   "outputs": [
    {
     "name": "stdout",
     "output_type": "stream",
     "text": [
      "12.564\n"
     ]
    }
   ],
   "source": [
    "# area of cicle\n",
    "\n",
    "circle = lambda radius : 3.141 * (radius * radius)\n",
    "\n",
    "print(circle(2))"
   ]
  },
  {
   "cell_type": "code",
   "execution_count": 8,
   "metadata": {},
   "outputs": [
    {
     "name": "stdout",
     "output_type": "stream",
     "text": [
      "8\n"
     ]
    }
   ],
   "source": [
    "# area of rectangle\n",
    "\n",
    "area = lambda length, breadth : length * breadth\n",
    "\n",
    "print(area(2,4))"
   ]
  },
  {
   "cell_type": "code",
   "execution_count": null,
   "metadata": {},
   "outputs": [],
   "source": [
    "# (a + b)^2 = a^2 + b^2 + 2 * (a*b)\n",
    "\n",
    "aplusb_square = lambda a, b = a**2 + b**2 + 2*(a*b)\n",
    "\n",
    "print(a)"
   ]
  }
 ],
 "metadata": {
  "kernelspec": {
   "display_name": "Python 3",
   "language": "python",
   "name": "python3"
  },
  "language_info": {
   "codemirror_mode": {
    "name": "ipython",
    "version": 3
   },
   "file_extension": ".py",
   "mimetype": "text/x-python",
   "name": "python",
   "nbconvert_exporter": "python",
   "pygments_lexer": "ipython3",
   "version": "3.7.6"
  }
 },
 "nbformat": 4,
 "nbformat_minor": 4
}

{
 "cells": [
  {
   "cell_type": "code",
   "execution_count": 5,
   "metadata": {},
   "outputs": [
    {
     "name": "stdout",
     "output_type": "stream",
     "text": [
      "{'UPPER_CASE': 2, 'LOWER_CASE': 11}\n"
     ]
    }
   ],
   "source": [
    "s = \"Python is Great\"\n",
    "count1 = 0\n",
    "count2 = 0\n",
    "\n",
    "for i in s:\n",
    "    if i.isupper():\n",
    "        count1 += 1\n",
    "    elif i.islower():\n",
    "        count2 += 1\n",
    "    else:\n",
    "        continue\n",
    "        \n",
    "print({'UPPER_CASE': count1, 'LOWER_CASE': count2})"
   ]
  },
  {
   "cell_type": "code",
   "execution_count": 12,
   "metadata": {},
   "outputs": [
    {
     "name": "stdout",
     "output_type": "stream",
     "text": [
      "nur sesrun\n",
      "False\n"
     ]
    }
   ],
   "source": [
    "s1 = \"nurses run\"\n",
    "s2 = s1[::-1]\n",
    "print(s2)\n",
    "\n",
    "if s1 == s2:\n",
    "    print(True)\n",
    "else:\n",
    "    print(False)"
   ]
  },
  {
   "cell_type": "code",
   "execution_count": 13,
   "metadata": {},
   "outputs": [
    {
     "name": "stdout",
     "output_type": "stream",
     "text": [
      "False\n"
     ]
    }
   ],
   "source": [
    "s1 = \"nurses run\"\n",
    "rev = ''.join(reversed(s1))\n",
    "\n",
    "if s1 == rev:\n",
    "    print(True)\n",
    "else:\n",
    "    print(False)"
   ]
  },
  {
   "cell_type": "code",
   "execution_count": 17,
   "metadata": {},
   "outputs": [
    {
     "name": "stdout",
     "output_type": "stream",
     "text": [
      "98\n"
     ]
    }
   ],
   "source": [
    "# You will be given an integer called limit. \n",
    "# Write a function that returns the sum of multiples of 3 and 5 between 0 and limit (parameter). \n",
    "# For example, if limit is 20, \n",
    "# it should return the sum of 3, 5, 6, 9, 10, 12, 15, 18, 20.\n",
    "\n",
    "sum = 0\n",
    "for i in range(0, 21):\n",
    "    if i % 3 == 0 or i % 5 == 0:\n",
    "        sum += i\n",
    "print(sum)"
   ]
  },
  {
   "cell_type": "code",
   "execution_count": 37,
   "metadata": {},
   "outputs": [
    {
     "name": "stdout",
     "output_type": "stream",
     "text": [
      "['green', 'red', 'yellow', 'black', 'white']\n",
      "['black', 'green', 'red', 'white', 'yellow']\n",
      "black-green-red-white-yellow\n"
     ]
    }
   ],
   "source": [
    "# Write a Python function that accepts a hyphen-separated sequence of words as input and\n",
    "# prints the words in a hyphen-separated sequence after sorting them alphabetically.\n",
    "\n",
    "s1 = 'green-red-yellow-black-white'\n",
    "s2 = s1.split('-')\n",
    "print(s2)\n",
    "s3 = sorted(s2)\n",
    "print(s3)\n",
    "\n",
    "s4 = ''\n",
    "for i in s3:\n",
    "    s4 = '-'.join(s3)\n",
    "print(s4)"
   ]
  },
  {
   "cell_type": "code",
   "execution_count": 40,
   "metadata": {},
   "outputs": [
    {
     "name": "stdout",
     "output_type": "stream",
     "text": [
      "['2020', '10', '11']\n",
      "['11', '10', '2020']\n",
      "11-10-2020\n"
     ]
    }
   ],
   "source": [
    "#You will be given a date in format yyyy-mm-dd. You have to cahgne this format into dd-mm-yyyy format.\n",
    "\n",
    "s1 = '2020-10-11'\n",
    "s2 = s1.split('-')\n",
    "s3 = s2[::-1]\n",
    "\n",
    "s4 = ''\n",
    "for i in s3:\n",
    "    s4 = '-'.join(s3)\n",
    "print(s4)"
   ]
  },
  {
   "cell_type": "code",
   "execution_count": 42,
   "metadata": {},
   "outputs": [
    {
     "name": "stdout",
     "output_type": "stream",
     "text": [
      "['The', 'following', 'example', 'creates', 'an', 'ArrayList', 'with', 'a', 'capacity', 'of', '50', 'elements.', 'Four', 'elements', 'are', 'then', 'added', 'to', 'the', 'ArrayList', 'and', 'the', 'ArrayList', 'is', 'trimmed', 'accordingly']\n"
     ]
    }
   ],
   "source": [
    "s1 = 'The following example creates an ArrayList with a capacity of 50 elements. Four elements are then added to the ArrayList and the ArrayList is trimmed accordingly'\n",
    "s2 = s1.split()\n",
    "print(s2)"
   ]
  },
  {
   "cell_type": "code",
   "execution_count": 53,
   "metadata": {},
   "outputs": [
    {
     "name": "stdout",
     "output_type": "stream",
     "text": [
      "The following example creates an ArrayList with a capacity of 50 elements. Four elements are then added to the ArrayList and the ArrayList is trimmed accordingly\n",
      "example,eates,an,ayList,apacity,elements,elements,are,en,added,ayList,and,ayList,ed,accordingly\n"
     ]
    }
   ],
   "source": [
    "import re\n",
    "\n",
    "str1 = str(input())\n",
    "\n",
    "str2 = re.findall('[ae]\\w+', str1)\n",
    "str3 = ''\n",
    "for x in str2:\n",
    "    str3 = \",\".join(str2)\n",
    "print(''+ str3 + '')"
   ]
  },
  {
   "cell_type": "markdown",
   "metadata": {},
   "source": [
    "    1. You will be given a string. You have to replace first two occurance of either space or comma or dot with colon (:)\n",
    "\n",
    "    Input Format:\n",
    "\n",
    "    The first line contains a string\n",
    "\n",
    "    Output Format:\n",
    "\n",
    "    print new string\n",
    "\n",
    "    Sample Input 0:\n",
    "\n"
   ]
  },
  {
   "cell_type": "code",
   "execution_count": null,
   "metadata": {},
   "outputs": [],
   "source": []
  }
 ],
 "metadata": {
  "kernelspec": {
   "display_name": "Python 3",
   "language": "python",
   "name": "python3"
  },
  "language_info": {
   "codemirror_mode": {
    "name": "ipython",
    "version": 3
   },
   "file_extension": ".py",
   "mimetype": "text/x-python",
   "name": "python",
   "nbconvert_exporter": "python",
   "pygments_lexer": "ipython3",
   "version": "3.7.6"
  }
 },
 "nbformat": 4,
 "nbformat_minor": 4
}
